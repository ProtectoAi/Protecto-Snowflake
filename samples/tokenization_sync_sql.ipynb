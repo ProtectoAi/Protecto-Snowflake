{
 "metadata": {
  "kernelspec": {
   "display_name": "Streamlit Notebook",
   "name": "streamlit"
  }
 },
 "nbformat_minor": 5,
 "nbformat": 4,
 "cells": [
  {
   "cell_type": "markdown",
   "id": "d562638e-6a15-4ca4-b545-80c785b89422",
   "metadata": {
    "name": "cell4",
    "collapsed": false
   },
   "source": "## 1. TOKENIZATION - AUTO DETECT"
  },
  {
   "cell_type": "code",
   "id": "8d50cbf4-0c8d-4950-86cb-114990437ac9",
   "metadata": {
    "language": "sql",
    "name": "cell2",
    "collapsed": false
   },
   "source": "SELECT \n    flattened.VALUE AS MASKED_VALUES\nFROM \n    LATERAL FLATTEN(\n        INPUT => protecto.vault.protecto_mask(\n            (SELECT ARRAY_AGG(NAME) \n             FROM (SELECT TOP 5 NAME FROM PII_DATA)),\n            'None', \n            'None', \n            'token_value'\n        )\n    ) AS flattened;\n",
   "execution_count": null,
   "outputs": []
  },
  {
   "cell_type": "markdown",
   "id": "25458796-8019-4a8c-a8e7-68d91b3fece8",
   "metadata": {
    "name": "cell1",
    "collapsed": false
   },
   "source": "## 1.1 TOKENIZATION - AUTO DETECT (TOXICITY ANALYSIS)"
  },
  {
   "cell_type": "code",
   "id": "942bece6-1067-4f80-9aea-58e65ec6f1ef",
   "metadata": {
    "language": "sql",
    "name": "cell5"
   },
   "outputs": [],
   "source": "SELECT \n    flattened.VALUE AS TOXICITY_ANALYSIS\nFROM \n    LATERAL FLATTEN(\n        INPUT => protecto.vault.protecto_mask(\n            (SELECT ARRAY_AGG(NAME) \n             FROM (SELECT TOP 5 NAME FROM PII_DATA)),\n            'None', \n            'None', \n            'toxicity_analysis'\n        )\n    ) AS flattened;",
   "execution_count": null
  },
  {
   "cell_type": "markdown",
   "id": "fdf80d1e-9a3a-4e8c-a7b1-fde2468fdb0f",
   "metadata": {
    "name": "cell7",
    "collapsed": false
   },
   "source": "## 1.2 TOKENIZATION - AUTO DETECT (TOXICITY)"
  },
  {
   "cell_type": "code",
   "id": "aa37765c-f44c-4651-b8c6-23859c4b8171",
   "metadata": {
    "language": "sql",
    "name": "cell6"
   },
   "outputs": [],
   "source": "SELECT \n    flattened.VALUE AS TOXICITY\nFROM \n    LATERAL FLATTEN(\n        INPUT => protecto.vault.protecto_mask(\n            (SELECT ARRAY_AGG(NAME) \n             FROM (SELECT TOP 5 NAME FROM PII_DATA)),\n            'None', \n            'None', \n            'toxicity'\n        )\n    ) AS flattened;",
   "execution_count": null
  },
  {
   "cell_type": "markdown",
   "id": "cb8c7324-c03e-40b7-b7a4-69a156b3eb20",
   "metadata": {
    "name": "cell9",
    "collapsed": false
   },
   "source": "## 1.3 TOKENIZATION - AUTO DETECT (RAW JSON)"
  },
  {
   "cell_type": "code",
   "id": "95d9f762-e82f-4ce8-962f-1e531aa94f37",
   "metadata": {
    "language": "sql",
    "name": "cell8"
   },
   "outputs": [],
   "source": "SELECT protecto.vault.protecto_mask(\n    (SELECT ARRAY_AGG(NAME) \n     FROM (SELECT TOP 5 NAME FROM PII_DATA)),\n    'None', \n    'None', \n    'raw_json'\n);",
   "execution_count": null
  },
  {
   "cell_type": "markdown",
   "id": "cf030637-7699-40d3-8b26-84b2ae2ea47b",
   "metadata": {
    "name": "cell10",
    "collapsed": false
   },
   "source": "## 2. TOKENIZATION - FORMAT & TOKEN TYPE"
  },
  {
   "cell_type": "code",
   "id": "b629e0ae-a6ea-4328-8d07-5d5915a14658",
   "metadata": {
    "language": "sql",
    "name": "cell11"
   },
   "outputs": [],
   "source": "SELECT \n    flattened.VALUE AS MASKED_VALUES\nFROM \n    LATERAL FLATTEN(\n        INPUT => protecto.vault.protecto_mask(\n            (SELECT ARRAY_AGG(NAME) \n             FROM (SELECT TOP 5 NAME FROM PII_DATA)),\n            'Text Token', \n            'Person Name',  \n            'token_value'\n        )\n    ) AS flattened;",
   "execution_count": null
  },
  {
   "cell_type": "markdown",
   "id": "9d077317-103a-4e1e-b9df-6ba1342cfac0",
   "metadata": {
    "name": "cell13",
    "collapsed": false
   },
   "source": "## WRTING TO NEW TABLE"
  },
  {
   "cell_type": "code",
   "id": "0a92ce6e-69ce-42cc-becf-3aab9f1830e3",
   "metadata": {
    "language": "sql",
    "name": "cell12",
    "collapsed": false
   },
   "outputs": [],
   "source": "-- Create a new table with the result\nCREATE OR REPLACE TABLE PII_MASKED_SAMPLE AS\nWITH top_5_names AS (\n    SELECT ROW_NUMBER() OVER (ORDER BY NAME) AS idx, NAME\n    FROM PII_DATA\n    ORDER BY NAME\n    LIMIT 5\n),\nmasked_names AS (\n    SELECT \n        ROW_NUMBER() OVER (ORDER BY (SELECT NULL)) AS idx, \n        flattened.VALUE AS MASKED_NAME\n    FROM \n        LATERAL FLATTEN(\n            INPUT => protecto.vault.protecto_mask(\n                (SELECT ARRAY_AGG(NAME) FROM top_5_names),\n                'Text Token', \n                'Person Name', \n                'token_value'\n            )\n        ) AS flattened\n)\n\nSELECT \n    t.NAME,\n    m.MASKED_NAME\nFROM \n    top_5_names t\nJOIN \n    masked_names m\nON \n    t.idx = m.idx;\n",
   "execution_count": null
  },
  {
   "cell_type": "code",
   "id": "3886fa1a-dc33-4092-8d5a-36975dec2ca2",
   "metadata": {
    "language": "sql",
    "name": "cell16"
   },
   "outputs": [],
   "source": "SELECT * FROM PII_MASKED_SAMPLE;",
   "execution_count": null
  },
  {
   "cell_type": "markdown",
   "id": "9c543d2c-7689-45ad-bde7-617980059b45",
   "metadata": {
    "name": "cell14",
    "collapsed": false
   },
   "source": "## 3. PROTECTO UNMASK"
  },
  {
   "cell_type": "code",
   "id": "c4625399-bf37-4b07-bc0a-50c64c3c58d8",
   "metadata": {
    "language": "sql",
    "name": "cell3"
   },
   "outputs": [],
   "source": "SELECT \n    flattened.VALUE AS ORIGNAL_VALUES\nFROM \n    LATERAL FLATTEN(\n        INPUT => protecto.vault.protecto_unmask(\n            SELECT ARRAY_AGG(MASKED_NAME) FROM PII_MASKED_SAMPLE\n        )\n    ) AS flattened;",
   "execution_count": null
  },
  {
   "cell_type": "markdown",
   "id": "4d93b44f-9dab-4863-b262-8e7f8e7a2e33",
   "metadata": {
    "name": "cell17",
    "collapsed": false
   },
   "source": "## 3.1 PROTECTO UNMASK - COMPARE"
  },
  {
   "cell_type": "code",
   "id": "a832e8c9-c5f3-49ea-8960-69b2e108964c",
   "metadata": {
    "language": "sql",
    "name": "cell15"
   },
   "outputs": [],
   "source": "WITH top_5_names AS (\n    SELECT ROW_NUMBER() OVER (ORDER BY MASKED_NAME) AS idx, MASKED_NAME\n    FROM PII_MASKED_SAMPLE\n    ORDER BY MASKED_NAME\n    LIMIT 5\n),\nmasked_names AS (\n    SELECT \n        ROW_NUMBER() OVER (ORDER BY (SELECT NULL)) AS idx, \n        flattened.VALUE AS ORIGINAL_NAME\n    FROM \n        LATERAL FLATTEN(\n            INPUT => protecto.vault.protecto_unmask(\n                SELECT ARRAY_AGG(MASKED_NAME) FROM top_5_names\n            )\n        ) AS flattened\n)\n\nSELECT \n    t.MASKED_NAME,\n    m.ORIGINAL_NAME\nFROM \n    top_5_names t\nJOIN \n    masked_names m\nON \n    t.idx = m.idx;",
   "execution_count": null
  }
 ]
}