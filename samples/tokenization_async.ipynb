{
 "metadata": {
  "kernelspec": {
   "display_name": "Streamlit Notebook",
   "name": "streamlit"
  }
 },
 "nbformat_minor": 5,
 "nbformat": 4,
 "cells": [
  {
   "cell_type": "markdown",
   "id": "bbe21b76-3ef2-4c00-83ad-800d80ec13ae",
   "metadata": {
    "name": "cell23",
    "collapsed": false
   },
   "source": "# PROTECTO ASYNC"
  },
  {
   "cell_type": "markdown",
   "id": "00367576-59db-468b-aeef-db1f78983f4b",
   "metadata": {
    "name": "cell1",
    "collapsed": false
   },
   "source": "## LOADING IN NECESSARY TABLE"
  },
  {
   "cell_type": "code",
   "id": "8d50cbf4-0c8d-4950-86cb-114990437ac9",
   "metadata": {
    "language": "python",
    "name": "cell2"
   },
   "source": "from snowflake.snowpark.functions import col, call_udf, array_agg,flatten,parse_json\nfrom snowflake.snowpark.context import get_active_session\nimport pandas as pd\nsession = get_active_session()\n\n# Load the top 5 rows from the PII_DATA table\ndf = session.table(\"PII_DATA\").select(\"NAME\").limit(10)\n\n# Aggregate the selected rows into an array\naggregated_df = df.agg(array_agg(col(\"NAME\")).alias(\"names_array\"))",
   "execution_count": null,
   "outputs": []
  },
  {
   "cell_type": "markdown",
   "id": "97a87de1-e4bc-4973-8989-8f5f8274cff9",
   "metadata": {
    "name": "cell7",
    "collapsed": false
   },
   "source": "## 1. ASYNC MASK- AUTO DETECT"
  },
  {
   "cell_type": "code",
   "id": "c695373e-ac74-4b62-a1f1-08206cbd5c81",
   "metadata": {
    "language": "python",
    "name": "cell3"
   },
   "source": "# Calling PROTECTO_MASK UDF\nprotecto_asyn_mask = call_udf(\"PROTECTO_VAULT.VAULT_SCHEMA.PROTECTO_ASYNC_MASK\",col(\"names_array\"),\"None\",\"None\")\n\n\ntracking_id = aggregated_df.select(protecto_asyn_mask)\ntracking_id.show()",
   "execution_count": null,
   "outputs": []
  },
  {
   "cell_type": "markdown",
   "id": "f15ca832-4c3b-4cc7-98a6-1df12bdb6f01",
   "metadata": {
    "name": "cell24",
    "collapsed": false
   },
   "source": "## 1.1. PROTECTO ASYNC MASK - STATUS"
  },
  {
   "cell_type": "code",
   "id": "9ef91727-c609-4373-9162-01c7648806a7",
   "metadata": {
    "language": "python",
    "name": "cell25"
   },
   "outputs": [],
   "source": "protecto_async_mask_result = call_udf(\"PROTECTO_ASYNC_MASK_RESULT\",\"0e4349fc-7a57-4bc9-aa35-442e8ce43d3b02082024123658\",\"status\")\n\nauto_df = aggregated_df.select(flatten(protecto_async_mask_result)).select(col(\"VALUE\"))\nauto_df.select(flatten(col(\"VALUE\"))).select(col(\"KEY\").alias(\"Name\"),col(\"VALUE\").alias(\"MAKED_VALUE\"))",
   "execution_count": null
  },
  {
   "cell_type": "markdown",
   "id": "15698543-b2bd-4019-ab51-6db4f0264828",
   "metadata": {
    "name": "cell8",
    "collapsed": false
   },
   "source": "## 1.2. PROTECTO ASYNC MASK - TOKEN VALUE"
  },
  {
   "cell_type": "code",
   "id": "f7bab02f-b6b7-4dc3-90df-2f426a7bac4f",
   "metadata": {
    "language": "python",
    "name": "cell4"
   },
   "outputs": [],
   "source": "\nprotecto_async_mask_result = call_udf(\"PROTECTO_VAULT.VAULT_SCHEMA.PROTECTO_ASYNC_MASK_RESULT\",\"0e4349fc-7a57-4bc9-aa35-442e8ce43d3b02082024123658\",\"token_value\")\n\nauto_df = aggregated_df.select(flatten(protecto_async_mask_result)).select(col(\"VALUE\"))\nauto_df.select(flatten(col(\"VALUE\"))).select(col(\"KEY\").alias(\"Name\"),col(\"VALUE\").alias(\"MAKED_VALUE\"))",
   "execution_count": null
  },
  {
   "cell_type": "markdown",
   "id": "59214312-9322-4b4e-8d53-36c08f4a123d",
   "metadata": {
    "name": "cell10",
    "collapsed": false
   },
   "source": "## 1.3. PROTECTO ASYNC MASK - TOXICITY ANALYSIS"
  },
  {
   "cell_type": "code",
   "id": "2861cc40-62d5-42a9-9820-5805f917ed72",
   "metadata": {
    "language": "python",
    "name": "cell6",
    "collapsed": false
   },
   "outputs": [],
   "source": "protecto_async_mask_result = call_udf(\"PROTECTO_VAULT.VAULT_SCHEMA.PROTECTO_ASYNC_MASK_RESULT\",\"0e4349fc-7a57-4bc9-aa35-442e8ce43d3b02082024123658\",\"toxicity_analysis\")\n\nauto_df = aggregated_df.select(flatten(protecto_async_mask_result)).select(col(\"VALUE\"))\n\ntoxicity_analysis = auto_df.select(flatten(col(\"VALUE\"))).select(col(\"KEY\").alias(\"Name\"),col(\"VALUE\").alias(\"TOXICITY_ANALYSIS\"))\ntoxicity_analysis",
   "execution_count": null
  },
  {
   "cell_type": "code",
   "id": "17946b56-704c-47e8-b5fb-e3838f0a0630",
   "metadata": {
    "language": "python",
    "name": "cell5"
   },
   "outputs": [],
   "source": "analysis_knockdown = toxicity_analysis.select(col(\"NAME\"),flatten(col(\"toxicity_analysis\"))).select(col(\"NAME\"),col(\"KEY\"),col(\"VALUE\"))\nanalysis_knockdown.pivot(\"KEY\",[\"severe_toxicity\",\"insult\",\"obscene\",\"threat\",\"identity_attack\",\"toxicity\"]).sum(\"VALUE\")",
   "execution_count": null
  },
  {
   "cell_type": "markdown",
   "id": "b429f901-1d75-4c05-8613-72c757729fae",
   "metadata": {
    "name": "cell11",
    "collapsed": false
   },
   "source": "## 1.4. PROTECTO ASYNC MASK RESULT - RAW DATA"
  },
  {
   "cell_type": "code",
   "id": "dfc75169-4e6d-4474-9696-ce98af2a98e0",
   "metadata": {
    "language": "python",
    "name": "cell9"
   },
   "outputs": [],
   "source": "protecto_async_mask_result = call_udf(\"PROTECTO_VAULT.VAULT_SCHEMA.PROTECTO_ASYNC_MASK_RESULT\",\"0e4349fc-7a57-4bc9-aa35-442e8ce43d3b02082024123658\",\"raw_json\")\n\nauto_df = aggregated_df.select(protecto_async_mask_result)\nauto_df",
   "execution_count": null
  },
  {
   "cell_type": "markdown",
   "id": "329c8c17-c158-4a8c-997b-77a3d6dd4fab",
   "metadata": {
    "name": "cell13",
    "collapsed": false
   },
   "source": "## 2.PROTECTO ASYNC MASK - FORMAT & TOKEN TYPE"
  },
  {
   "cell_type": "code",
   "id": "335a855f-c147-4c46-9307-6470b1959a33",
   "metadata": {
    "language": "python",
    "name": "cell12"
   },
   "outputs": [],
   "source": "# Calling PROTECTO_MASK UDF\nprotecto_asyn_mask = call_udf(\"PROTECTO_VAULT.VAULT_SCHEMA.PROTECTO_ASYNC_MASK\",col(\"names_array\"),\"Text Token\",\"Person Name\")\n\n\ntracking_id = aggregated_df.select(protecto_asyn_mask)\ntracking_id.show()",
   "execution_count": null
  },
  {
   "cell_type": "markdown",
   "id": "131d1c66-5506-4869-b513-646ec2773eb2",
   "metadata": {
    "name": "cell26",
    "collapsed": false
   },
   "source": "## 2.1 PROTECTO ASYNC MASK - TOKEN VALUE"
  },
  {
   "cell_type": "code",
   "id": "f06c64f2-eebe-47a4-8b90-633ae547646f",
   "metadata": {
    "language": "python",
    "name": "cell14"
   },
   "outputs": [],
   "source": "protecto_async_mask_result = call_udf(\"PROTECTO_VAULT.VAULT_SCHEMA.PROTECTO_ASYNC_MASK_RESULT\",\"afafb76f-07f6-4018-8662-c132c47e22dc02082024125354\",\"token_value\")\n\ntoken_df = aggregated_df.select(flatten(protecto_async_mask_result)).select(col(\"VALUE\"))\ntoken_df.select(flatten(col(\"VALUE\"))).select(col(\"KEY\").alias(\"Name\"),col(\"VALUE\").alias(\"MAKED_VALUE\"))",
   "execution_count": null
  },
  {
   "cell_type": "markdown",
   "id": "5698be40-d0ce-4d5b-9fab-f20e6a820cb1",
   "metadata": {
    "name": "cell17",
    "collapsed": false
   },
   "source": "## WRITING ASYNC MASKED TO TABLE"
  },
  {
   "cell_type": "code",
   "id": "78ad432d-875d-4147-a806-3bc392d4bc41",
   "metadata": {
    "language": "python",
    "name": "cell18"
   },
   "outputs": [],
   "source": "write_df = token_df.select(flatten(col(\"VALUE\"))).select(col(\"KEY\").alias(\"Name\"),col(\"VALUE\").alias(\"MASKED_VALUE\"))\nwrite_df.write.mode(\"overwrite\").save_as_table(\"MASKED_PII_NAME_ASYNC\")",
   "execution_count": null
  },
  {
   "cell_type": "markdown",
   "id": "3e0f83f4-1da8-410c-8785-370fcefdbad8",
   "metadata": {
    "name": "cell15",
    "collapsed": false
   },
   "source": "## 3. PROTECTO ASYNC UNMASK"
  },
  {
   "cell_type": "code",
   "id": "229cc109-db97-435b-afaf-0d73988d0181",
   "metadata": {
    "language": "python",
    "name": "cell16"
   },
   "outputs": [],
   "source": "from snowflake.snowpark.functions import col, call_udf, array_agg,flatten\n\n\n# Load the top 5 rows from the PII_DATA table\nmasked_pii_name = session.table(\"MASKED_PII_NAME_ASYNC\")\n\n# Aggregate the selected rows into an array\naggregated_masked = masked_pii_name.agg(array_agg(col(\"MASKED_VALUE\")).alias(\"masked_array\"))\n",
   "execution_count": null
  },
  {
   "cell_type": "code",
   "id": "df57dd6c-0e58-4bed-a9f4-d7fa5635bfc4",
   "metadata": {
    "language": "python",
    "name": "cell19"
   },
   "outputs": [],
   "source": "protecto_async_unmask = call_udf(\"PROTECTO_VAULT.VAULT_SCHEMA.PROTECTO_ASYNC_UNMASK\",col(\"masked_array\"))\ntracking_id = aggregated_df.select(protecto_asyn_mask)\ntracking_id.show()",
   "execution_count": null
  },
  {
   "cell_type": "markdown",
   "id": "3aee5cbe-a136-4247-a75e-c83b68a4890a",
   "metadata": {
    "name": "cell22",
    "collapsed": false
   },
   "source": "## 3.1  PROTECTO ASYNC UNMASK RESULT"
  },
  {
   "cell_type": "markdown",
   "id": "63c93232-8116-45df-a3da-3e79a091e013",
   "metadata": {
    "name": "cell21"
   },
   "source": ""
  },
  {
   "cell_type": "code",
   "id": "811f999b-b7a1-427c-a3ba-f2788a5de77b",
   "metadata": {
    "language": "python",
    "name": "cell20",
    "collapsed": false,
    "codeCollapsed": false
   },
   "outputs": [],
   "source": "protecto_async_unmask_result = call_udf(\"PROTECTO_VAULT.VAULT_SCHEMA.PROTECTO_ASYNC_UNMASK_RESULT\",\"1f9b85d0-0026-4d45-9cf5-53bc6d7f0c7a02082024130449\",\"value\")\n\n\nvalue_df = aggregated_masked.select(flatten(protecto_async_unmask_result)).select(col(\"VALUE\"))\npd.concat([masked_pii_name.to_pandas(), value_df.select(col(\"VALUE\").alias(\"ORIGINAL_NAME\")).to_pandas()], axis=1).head(10)",
   "execution_count": null
  }
 ]
}