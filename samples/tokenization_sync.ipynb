{
 "metadata": {
  "kernelspec": {
   "display_name": "Streamlit Notebook",
   "name": "streamlit"
  }
 },
 "nbformat_minor": 5,
 "nbformat": 4,
 "cells": [
  {
   "cell_type": "markdown",
   "id": "c8d88a74-586c-4348-b877-d5b3aad7a069",
   "metadata": {
    "name": "cell20",
    "collapsed": false
   },
   "source": "# PROTECTO SYNC"
  },
  {
   "cell_type": "markdown",
   "id": "700b5562-ca5c-4bd2-b8d8-e6555a3de866",
   "metadata": {
    "name": "cell1",
    "collapsed": false
   },
   "source": "## LOADING IN NECESSARY TABLE"
  },
  {
   "cell_type": "code",
   "id": "ad80cea4-5783-4b61-bfa2-34550c9fbb77",
   "metadata": {
    "language": "python",
    "name": "cell16"
   },
   "outputs": [],
   "source": "from snowflake.snowpark.functions import col, call_udf, array_agg,flatten\nfrom snowflake.snowpark.context import get_active_session\nimport pandas as pd\nsession = get_active_session()\n\n# Load the top 5 rows from the PII_DATA table\ndf = session.table(\"PII_DATA\").select(\"NAME\").limit(10)\n\n# Aggregate the selected rows into an array\naggregated_df = df.agg(array_agg(col(\"NAME\")).alias(\"names_array\"))",
   "execution_count": null
  },
  {
   "cell_type": "markdown",
   "id": "ee5a2df0-b3c3-41b5-9654-43e93c971783",
   "metadata": {
    "name": "cell11",
    "collapsed": false
   },
   "source": "## 1.PROTECTO MASK -  AUTO DETECT"
  },
  {
   "cell_type": "code",
   "id": "d544acfb-0bc6-4747-9548-fe2cfbfc7963",
   "metadata": {
    "language": "python",
    "name": "cell12"
   },
   "outputs": [],
   "source": "# Calling PROTECTO_MASK UDF\nprotecto_mask = call_udf(\"PROTECTO_VAULT.VAULT_SCHEMA.PROTECTO_MASK\",col(\"names_array\"),\"None\",\"None\",\"token_value\")\n\n\nauto_df = aggregated_df.select(flatten(protecto_mask)).select(col(\"VALUE\"))\npd.concat([df.to_pandas(), auto_df.to_pandas()], axis=1).head(5)",
   "execution_count": null
  },
  {
   "cell_type": "markdown",
   "id": "7b849732-d554-414f-8d96-891ec73f7f58",
   "metadata": {
    "name": "cell15",
    "collapsed": false
   },
   "source": "## 1.1 PROTECTO AUTO DETECT - TOXICITY ANALYSIS"
  },
  {
   "cell_type": "code",
   "id": "b94e354b-10c4-4adf-b359-62b2bdd32d51",
   "metadata": {
    "language": "python",
    "name": "cell8",
    "collapsed": false
   },
   "outputs": [],
   "source": "# Calling PROTECTO_MASK UDF\nprotecto_mask = call_udf(\"PROTECTO_VAULT.VAULT_SCHEMA.PROTECTO_MASK\",col(\"names_array\"),\"None\",\"None\",\"toxicity_analysis\")\n\n\nauto_df = aggregated_df.select(flatten(protecto_mask)).select(col(\"VALUE\"))\npd.concat([df.to_pandas(), auto_df.to_pandas()], axis=1).head(5)",
   "execution_count": null
  },
  {
   "cell_type": "markdown",
   "id": "60a6b522-3807-4738-a3f5-3268a91bfd2b",
   "metadata": {
    "name": "cell14",
    "collapsed": false
   },
   "source": "## 1.2 PROTECTO AUTO DETECT - TOXICITY ANALYSIS - REFINED"
  },
  {
   "cell_type": "code",
   "id": "b95dea81-d8ab-40ef-944d-0124bb5b98d3",
   "metadata": {
    "language": "python",
    "name": "cell13"
   },
   "outputs": [],
   "source": "# Calling PROTECTO_MASK UDF\nprotecto_mask = call_udf(\"PROTECTO_VAULT.VAULT_SCHEMA.PROTECTO_MASK\",col(\"names_array\"),\"None\",\"None\",\"toxicity\")\n\nauto_df = aggregated_df.select(flatten(protecto_mask)).select(col(\"VALUE\"))\npd.concat([df.to_pandas(), auto_df.to_pandas()], axis=1).head(5)",
   "execution_count": null
  },
  {
   "cell_type": "markdown",
   "id": "ed63f2fb-9e08-4d11-be4a-2e781545d38b",
   "metadata": {
    "name": "cell2",
    "collapsed": false
   },
   "source": "## 1.3 PROTECTO AUTO DETECT - RAW JSON"
  },
  {
   "cell_type": "code",
   "id": "9aa2eacd-771b-40c0-a5bd-20f792960668",
   "metadata": {
    "language": "python",
    "name": "cell3"
   },
   "outputs": [],
   "source": "protecto_mask = call_udf(\"PROTECTO_VAULT.VAULT_SCHEMA.PROTECTO_MASK\",col(\"names_array\"),\"None\",\"None\",\"raw_json\")\n\nauto_df = aggregated_df.select(protecto_mask)\nauto_df",
   "execution_count": null
  },
  {
   "cell_type": "markdown",
   "id": "457ba8aa-6d35-4951-ac56-3f546309f9bf",
   "metadata": {
    "name": "cell4",
    "collapsed": false
   },
   "source": "## 2. PROTECTO MASK - FORMAT & TOKEN TYPE"
  },
  {
   "cell_type": "code",
   "id": "4e6b899e-6364-40b3-9750-ee990b5bf9e4",
   "metadata": {
    "language": "python",
    "name": "cell6"
   },
   "outputs": [],
   "source": "# Calling PROTECTO_MASK UDF\nprotecto_mask = call_udf(\"PROTECTO_VAULT.VAULT_SCHEMA.PROTECTO_MASK\",col(\"names_array\"),\"Text Token\",\"Person Name\",\"token_value\")\n\n\ntoken_df = aggregated_df.select(flatten(protecto_mask)).select(col(\"VALUE\"))\npd.concat([df.to_pandas(), token_df.to_pandas()], axis=1).head()\n",
   "execution_count": null
  },
  {
   "cell_type": "markdown",
   "id": "ec2244f5-424f-4dae-a8d2-4d11621f57b2",
   "metadata": {
    "name": "cell9",
    "collapsed": false
   },
   "source": "## WRITING MASKED RESULTS TO TABLE"
  },
  {
   "cell_type": "code",
   "id": "eddd4668-cc36-4a43-ae59-f691151baa0a",
   "metadata": {
    "language": "python",
    "name": "cell7"
   },
   "outputs": [],
   "source": "masked_df = pd.concat([df.to_pandas(), token_df.to_pandas()], axis=1)\ndf_snowpark = session.create_dataframe(masked_df)\n\n# Write the Snowpark DataFrame to a Snowflake table\ndf_snowpark.write.mode(\"overwrite\").save_as_table(\"MASKED_PII_NAME\")",
   "execution_count": null
  },
  {
   "cell_type": "markdown",
   "id": "c32d2d48-8f8a-4f41-a725-05bdf544ba0f",
   "metadata": {
    "name": "cell18",
    "collapsed": false
   },
   "source": "## 3 PROTECTO UNMASK"
  },
  {
   "cell_type": "code",
   "id": "533f25fa-de2e-4c16-b682-247bd2e8ce0b",
   "metadata": {
    "language": "python",
    "name": "cell17",
    "collapsed": false
   },
   "outputs": [],
   "source": "from snowflake.snowpark.functions import col, call_udf, array_agg,flatten\n\n\n# Load the top 5 rows from the PII_DATA table\nmasked_pii_name = session.table(\"MASKED_PII_NAME\")\n\n# Aggregate the selected rows into an array\naggregated_masked = masked_pii_name.agg(array_agg(col(\"VALUE\")).alias(\"masked_array\"))\naggregated_masked.show()",
   "execution_count": null
  },
  {
   "cell_type": "code",
   "id": "a402a251-926d-41c3-9f81-d336a5d118cb",
   "metadata": {
    "language": "python",
    "name": "cell19"
   },
   "outputs": [],
   "source": "protecto_unmask = call_udf(\"PROTECTO_VAULT.VAULT_SCHEMA.PROTECTO_UNMASK\",col(\"masked_array\"))\n\n\nvalue_df = aggregated_masked.select(flatten(protecto_unmask)).select(col(\"VALUE\"))\n#value_df.show()\npd.concat([masked_pii_name.to_pandas(), value_df.select(col(\"VALUE\").alias(\"ORIGINAL_NAME\")).to_pandas()], axis=1).head(10)",
   "execution_count": null
  }
 ]
}