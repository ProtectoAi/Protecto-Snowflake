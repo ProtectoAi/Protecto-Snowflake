{
 "metadata": {
  "kernelspec": {
   "display_name": "Streamlit Notebook",
   "name": "streamlit"
  }
 },
 "nbformat_minor": 5,
 "nbformat": 4,
 "cells": [
  {
   "cell_type": "markdown",
   "id": "d26ed436-9651-47b1-90cf-8852cc2c1d5d",
   "metadata": {
    "name": "cell11",
    "collapsed": false
   },
   "source": "## ACTIVATING SESSION "
  },
  {
   "cell_type": "code",
   "id": "3775908f-ca36-4846-8f38-5adca39217f2",
   "metadata": {
    "language": "python",
    "name": "cell1"
   },
   "source": "# Import python packages\nimport streamlit as st\nimport pandas as pd\nimport snowflake.snowpark as snowpark\n\n# We can also use Snowpark for our analyses!\nfrom snowflake.snowpark.context import get_active_session\nsession = get_active_session()\n",
   "execution_count": null,
   "outputs": []
  },
  {
   "cell_type": "markdown",
   "id": "ee61c335-287e-4862-9533-7e99fa244955",
   "metadata": {
    "name": "cell13",
    "collapsed": false
   },
   "source": "##  LOADING PII TABLE"
  },
  {
   "cell_type": "code",
   "id": "8d50cbf4-0c8d-4950-86cb-114990437ac9",
   "metadata": {
    "language": "python",
    "name": "cell2"
   },
   "source": "\n\n# Load the data from PII_DATA table\ndf = session.table(\"PII_DATA\").select(\"DOCUMENT\", \"TEXT\").limit(10)\n\n# Show the top 10 rows\ndf.show()\n",
   "execution_count": null,
   "outputs": []
  },
  {
   "cell_type": "code",
   "id": "c695373e-ac74-4b62-a1f1-08206cbd5c81",
   "metadata": {
    "language": "python",
    "name": "cell3",
    "collapsed": false
   },
   "source": "# Convert the Snowpark DataFrame to a pandas DataFrame for easier manipulation\ndata = df.to_pandas()\n",
   "execution_count": null,
   "outputs": []
  },
  {
   "cell_type": "markdown",
   "id": "b0d1a0d8-e65a-4243-8739-2e82a8d4d209",
   "metadata": {
    "name": "cell12",
    "collapsed": false
   },
   "source": "## MASKING USING PROTECTO AUTO DETECT"
  },
  {
   "cell_type": "code",
   "id": "adb13281-6f94-4df2-87cc-7b8471936b61",
   "metadata": {
    "language": "python",
    "name": "cell5",
    "collapsed": false
   },
   "outputs": [],
   "source": "from snowflake.snowpark.functions import col, call_udf, array_agg, flatten\nfrom snowflake.cortex import Complete, ExtractAnswer, Sentiment, Summarize, Translate\n\n# Assuming you have a Snowflake session named 'session'\n# and a DataFrame named 'df' containing your data\n\n# Aggregate the TEXT column into an array\naggregated_df = df.agg(array_agg(col(\"TEXT\")).alias(\"text_array\"))\n\n# Call the PROTECTO_MASK UDF\nprotecto_mask = call_udf(\"PROTECTO.VAULT.PROTECTO_MASK\",col(\"text_array\"))\n\n# Flatten the UDF result and select the VALUE column\nauto_df = aggregated_df.select(flatten(protecto_mask)).select(col(\"VALUE\"))\n\n# Combine the original DataFrame with the masked data\nmasked_df = pd.concat([df.to_pandas()[[\"TEXT\"]], auto_df.to_pandas()], axis=1).head(5)\nmasked_df = masked_df.rename(columns={'VALUE': 'MASKED_TEXT'})\nmasked_df.head()",
   "execution_count": null
  },
  {
   "cell_type": "markdown",
   "id": "41c4ef5b-c87d-4d21-8ee1-8720e4755316",
   "metadata": {
    "name": "cell4",
    "collapsed": false
   },
   "source": "## SUMMARIZING WITH MASKED DATA"
  },
  {
   "cell_type": "code",
   "id": "828f9cd4-dcc4-44aa-8e64-e40899ed30aa",
   "metadata": {
    "language": "python",
    "name": "cell8",
    "collapsed": false
   },
   "outputs": [],
   "source": "def create_prompt(text):\n    return [\n        {\n            'role': 'system',\n            'content': 'You are a helpful AI assistant. You will be summarising the given text and while summarizing make sure you maintain the structure when it mentioned as <PER> and other relevant ones.Dont skip PII info include that in the summary.'\n        },\n        {'role': 'user', 'content': text}\n    ]\n\ndef summarize_text(text):\n    import json\n    return json.loads(Complete(\"snowflake-arctic\",create_prompt(text)))[\"choices\"][0][\"messages\"]\n    \n\nmasked_df['SUMMARIZED_TEXT'] = masked_df['MASKED_TEXT'].apply(lambda text: summarize_text(text))\nmasked_df.head()",
   "execution_count": null
  },
  {
   "cell_type": "code",
   "id": "f6ca5338-7135-44c7-9272-32bd5c470ec3",
   "metadata": {
    "language": "python",
    "name": "cell7",
    "collapsed": false,
    "codeCollapsed": false
   },
   "outputs": [],
   "source": "from IPython.display import display\n\nprint(f\"**Masked Text:** \\n\",masked_df['MASKED_TEXT'][0])\n\nprint(f\"\\n\\n**Summarized Text:** \\n\")\n# Split and display line by line to avoid scroll\nfor line in masked_df['SUMMARIZED_TEXT'][0].split('.'):\n    display(line)",
   "execution_count": null
  },
  {
   "cell_type": "code",
   "id": "c0128a5c-b45e-4969-9fa2-26d1c8a844b4",
   "metadata": {
    "language": "python",
    "name": "cell10"
   },
   "outputs": [],
   "source": "df_snowpark = session.create_dataframe(masked_df)\n\n# Write the Snowpark DataFrame to a Snowflake table\ndf_snowpark.write.mode(\"overwrite\").save_as_table(\"PII_SUMMARIZED_TEXT\")",
   "execution_count": null
  },
  {
   "cell_type": "markdown",
   "id": "84109839-9bfb-4f52-b3cc-3ebf81b7da2e",
   "metadata": {
    "name": "cell14",
    "collapsed": false
   },
   "source": "## UNMASKING RESULTS "
  },
  {
   "cell_type": "code",
   "id": "64152bac-e481-4db8-affa-7454a730f46a",
   "metadata": {
    "language": "python",
    "name": "cell9",
    "collapsed": false
   },
   "outputs": [],
   "source": "\nmasked_table = session.table(\"PII_SUMMARIZED_TEXT\")\n# Aggregate the SUMMARIZED_TEXT column into an array\naggregated_df = masked_table.agg(array_agg(col(\"MASKED_TEXT\")).alias(\"mask_array\"))\n\n# Call the UNMASK UDF\nunmask_udf_result = call_udf(\"PROTECTO.VAULT.PROTECTO_UNMASK\", col(\"mask_array\"))\n\n# Flatten the UDF result\nauto_df = aggregated_df.select(flatten(unmask_udf_result)).select(col(\"VALUE\"))\n\n\nunmasked_df = pd.concat([masked_table.to_pandas()[[\"MASKED_TEXT\"]], auto_df.to_pandas()], axis=1).head(5)\nunmasked_df = unmasked_df.rename(columns={'VALUE': 'UNMASKED_TEXT'})\nunmasked_df.head()",
   "execution_count": null
  },
  {
   "cell_type": "markdown",
   "id": "2d5c6936-cd7e-4bde-b123-a9d28357b68b",
   "metadata": {
    "name": "cell15",
    "collapsed": false
   },
   "source": "## UNMASKING AFTER SUMMARIZATION"
  },
  {
   "cell_type": "code",
   "id": "f8ca1a36-9699-4f82-9eb5-6411bee9ce35",
   "metadata": {
    "language": "python",
    "name": "cell6",
    "collapsed": false
   },
   "outputs": [],
   "source": "\nmasked_table = session.table(\"PII_SUMMARIZED_TEXT\")\n# Aggregate the SUMMARIZED_TEXT column into an array\naggregated_df = masked_table.agg(array_agg(col(\"SUMMARIZED_TEXT\")).alias(\"summarized_array\"))\n\n# Call the UNMASK UDF\nunmask_udf_result = call_udf(\"PROTECTO.VAULT.PROTECTO_UNMASK\", col(\"summarized_array\"))\n\n# Flatten the UDF result\nauto_df = aggregated_df.select(flatten(unmask_udf_result)).select(col(\"VALUE\"))\n\n\nsummary = pd.concat([masked_table.to_pandas()[[\"MASKED_TEXT\",\"SUMMARIZED_TEXT\"]], auto_df.to_pandas()], axis=1).head(5)\nsummary = summary.rename(columns={'VALUE': 'UNMASKED_SUMMARY'})\nsummary.head()\n",
   "execution_count": null
  }
 ]
}