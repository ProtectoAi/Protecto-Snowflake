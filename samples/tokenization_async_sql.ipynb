{
 "metadata": {
  "kernelspec": {
   "display_name": "Streamlit Notebook",
   "name": "streamlit"
  }
 },
 "nbformat_minor": 5,
 "nbformat": 4,
 "cells": [
  {
   "cell_type": "markdown",
   "id": "3775908f-ca36-4846-8f38-5adca39217f2",
   "metadata": {
    "name": "cell1",
    "collapsed": false
   },
   "source": "## 1. PROETECTO ASYNC UNMASK - AUTO DETECT\n"
  },
  {
   "cell_type": "code",
   "id": "c695373e-ac74-4b62-a1f1-08206cbd5c81",
   "metadata": {
    "language": "sql",
    "name": "cell3"
   },
   "source": "SELECT protecto.vault.protecto_async_mask(\n    (SELECT ARRAY_AGG(NAME) \n     FROM (SELECT TOP 5 NAME FROM PII_DATA)),\n    'None', \n    'None'\n) as TRACKING_ID",
   "execution_count": null,
   "outputs": []
  },
  {
   "cell_type": "markdown",
   "id": "29528ecb-9ad5-42dd-afb9-9a8b65c05d59",
   "metadata": {
    "name": "cell6",
    "collapsed": false
   },
   "source": "## 1.1 PROTECTO ASYNC UNMASK - FORAMT AND TOKEN TYPE"
  },
  {
   "cell_type": "code",
   "id": "0dac8b99-ad30-494a-af74-2b8adcca553c",
   "metadata": {
    "language": "sql",
    "name": "cell2"
   },
   "outputs": [],
   "source": "SELECT protecto.vault.protecto_async_mask(\n    (SELECT ARRAY_AGG(NAME) \n     FROM (SELECT TOP 5 NAME FROM PII_DATA)),\n    'Text Token', \n    'Person Name'\n) as TRACKING_ID",
   "execution_count": null
  },
  {
   "cell_type": "markdown",
   "id": "5ac0fa1a-3e6b-4896-ab79-6c88f986b65e",
   "metadata": {
    "name": "cell7",
    "collapsed": false
   },
   "source": "## 2 PROTECTO ASYCN MASK RESULT -  STATUS"
  },
  {
   "cell_type": "code",
   "id": "7b1629c5-3db0-4a89-996f-f8bad887bb32",
   "metadata": {
    "language": "sql",
    "name": "cell8"
   },
   "outputs": [],
   "source": "SELECT \n    flattened.VALUE AS MASKED_VALUES\nFROM \n    LATERAL FLATTEN(\n        INPUT => protecto.vault.protecto_async_mask_result(\n            'b5ab5bd8-5e4c-4da5-9911-8248d801d71f04082024134919',\n            'status'\n        )\n    ) AS flattened;",
   "execution_count": null
  },
  {
   "cell_type": "markdown",
   "id": "bba8a8c1-cce5-4340-89e4-1869e16732a5",
   "metadata": {
    "name": "cell15",
    "collapsed": false
   },
   "source": "## 2.1 PROTECTO ASYCN MASK RESULT -  RAW JSON"
  },
  {
   "cell_type": "code",
   "id": "6fd410c1-f797-4c67-a8e9-1a4ba750b39c",
   "metadata": {
    "language": "sql",
    "name": "cell14"
   },
   "outputs": [],
   "source": "SELECT protecto.vault.protecto_async_mask_result(\n        'b5ab5bd8-5e4c-4da5-9911-8248d801d71f04082024134919',\n        'raw_json')\nAS RAW_JSON;",
   "execution_count": null
  },
  {
   "cell_type": "markdown",
   "id": "b55f2458-fdcc-40fa-878f-51f9d78e4a20",
   "metadata": {
    "name": "cell9",
    "collapsed": false
   },
   "source": "## 2.2 PROTECTO ASYCN MASK RESULT -  TOKEN VALUE"
  },
  {
   "cell_type": "code",
   "id": "a46f2002-dbcf-4088-99bb-0708e4a1a380",
   "metadata": {
    "language": "sql",
    "name": "cell4"
   },
   "outputs": [],
   "source": "SELECT \n    flattened.VALUE AS MASKED_VALUES\nFROM \n    LATERAL FLATTEN(\n        INPUT => protecto.vault.protecto_async_mask_result(\n            'b5ab5bd8-5e4c-4da5-9911-8248d801d71f04082024134919',\n            'token_value'\n        )\n    ) AS flattened;",
   "execution_count": null
  },
  {
   "cell_type": "markdown",
   "id": "027b7071-dd25-4dc9-84a0-7ac122d83e10",
   "metadata": {
    "name": "cell10",
    "collapsed": false
   },
   "source": "## FURTHER PACKED INTO COLUMN AS FOLLOWING"
  },
  {
   "cell_type": "code",
   "id": "cf7d292b-c91d-484d-92bd-18a0ca3c9a0d",
   "metadata": {
    "language": "sql",
    "name": "cell5",
    "collapsed": false
   },
   "outputs": [],
   "source": "WITH json_data AS (\n    SELECT \n        PARSE_JSON(flattened.VALUE::STRING) AS json_object\n    FROM \n        LATERAL FLATTEN(\n            INPUT => protecto.vault.protecto_async_mask_result(\n                'b5ab5bd8-5e4c-4da5-9911-8248d801d71f04082024134919',\n                'token_value'\n            )\n        ) AS flattened\n)\nSELECT\n    KEY AS ORIGINAL_NAME,\n    VALUE::STRING AS MASKED_NAME\nFROM\n    json_data,\n    LATERAL FLATTEN(INPUT => json_data.json_object)\n",
   "execution_count": null
  },
  {
   "cell_type": "markdown",
   "id": "ba5854bb-b576-49ed-bfb8-6e870059d7f7",
   "metadata": {
    "name": "cell11",
    "collapsed": false
   },
   "source": "## 2.3 PROTECTO ASYCN MASK RESULT -  TOXICITY ANALYSIS"
  },
  {
   "cell_type": "code",
   "id": "416fc270-c0c6-42b4-a682-66f504cdfe92",
   "metadata": {
    "language": "sql",
    "name": "cell12"
   },
   "outputs": [],
   "source": "WITH json_data AS (\n    SELECT \n        PARSE_JSON(flattened.VALUE::STRING) AS json_object\n    FROM \n        LATERAL FLATTEN(\n            INPUT => protecto.vault.protecto_async_mask_result(\n                'b5ab5bd8-5e4c-4da5-9911-8248d801d71f04082024134919',\n                'toxicity_analysis'\n            )\n        ) AS flattened\n)\nSELECT\n    KEY AS ORIGINAL_NAME,\n    VALUE::STRING AS TOXICITY_ANALYSIS\nFROM\n    json_data,\n    LATERAL FLATTEN(INPUT => json_data.json_object)",
   "execution_count": null
  },
  {
   "cell_type": "markdown",
   "id": "3c3d5240-0dc6-47fa-8e96-24d32fb33279",
   "metadata": {
    "name": "cell24",
    "collapsed": false
   },
   "source": "## 2.4 PROTECTO ASYCN MASK RESULT -  TOXICITY"
  },
  {
   "cell_type": "code",
   "id": "503edf83-d368-4ab6-9321-fdb5e7975019",
   "metadata": {
    "language": "sql",
    "name": "cell13"
   },
   "outputs": [],
   "source": "WITH json_data AS (\n    SELECT \n        PARSE_JSON(flattened.VALUE::STRING) AS json_object\n    FROM \n        LATERAL FLATTEN(\n            INPUT => protecto.vault.protecto_async_mask_result(\n                'b5ab5bd8-5e4c-4da5-9911-8248d801d71f04082024134919',\n                'toxicity'\n            )\n        ) AS flattened\n)\nSELECT\n    KEY AS ORIGINAL_NAME,\n    VALUE::STRING AS TOXICITY\nFROM\n    json_data,\n    LATERAL FLATTEN(INPUT => json_data.json_object)",
   "execution_count": null
  },
  {
   "cell_type": "markdown",
   "id": "509a3ced-9b35-4da5-bbf1-d892552ae13a",
   "metadata": {
    "name": "cell16",
    "collapsed": false
   },
   "source": "## 3. PROTECTO AYSNC UNMASK"
  },
  {
   "cell_type": "code",
   "id": "bdbd38e2-0b35-4127-bf55-5b3b074621f2",
   "metadata": {
    "language": "sql",
    "name": "cell25",
    "collapsed": false
   },
   "outputs": [],
   "source": "select * from PII_MASKED_SAMPLE;",
   "execution_count": null
  },
  {
   "cell_type": "code",
   "id": "8db452bb-5fbd-488b-a8b9-0f7698ce8ffc",
   "metadata": {
    "language": "sql",
    "name": "cell17"
   },
   "outputs": [],
   "source": "SELECT protecto.vault.protecto_async_unmask(\n        SELECT ARRAY_AGG(MASKED_NAME) FROM PII_MASKED_SAMPLE\n        )\nAS TRACKING_ID;",
   "execution_count": null
  },
  {
   "cell_type": "markdown",
   "id": "0c2e0511-6e88-40eb-a066-fc027002b215",
   "metadata": {
    "name": "cell21",
    "collapsed": false
   },
   "source": "## 3.1 PROTECTO ASYNC UNMASK RESULT - STATUS"
  },
  {
   "cell_type": "code",
   "id": "497135b4-1e8c-4d51-8013-31467c246cc2",
   "metadata": {
    "language": "sql",
    "name": "cell18"
   },
   "outputs": [],
   "source": "SELECT \n    flattened.VALUE AS ORIGNAL_VALUES\nFROM \n    LATERAL FLATTEN(\n        INPUT => protecto.vault.protecto_async_unmask_result(\n            '72716721-5552-4ddc-8852-872c4f304d9d04082024142318',\n            'status'\n        )\n    ) AS flattened;",
   "execution_count": null
  },
  {
   "cell_type": "markdown",
   "id": "c8d87162-20d8-419a-874e-feb887df79b6",
   "metadata": {
    "name": "cell22",
    "collapsed": false
   },
   "source": "## 3.1 PROTECTO ASYNC UNMASK RESULT - VALUES"
  },
  {
   "cell_type": "code",
   "id": "9c221df5-a662-435d-81c4-53983eb7c5e8",
   "metadata": {
    "language": "sql",
    "name": "cell19"
   },
   "outputs": [],
   "source": "SELECT \n    flattened.VALUE AS ORIGNAL_VALUES\nFROM \n    LATERAL FLATTEN(\n        INPUT => protecto.vault.protecto_async_unmask_result(\n            '72716721-5552-4ddc-8852-872c4f304d9d04082024142318',\n            'value'\n        )\n    ) AS flattened;",
   "execution_count": null
  },
  {
   "cell_type": "markdown",
   "id": "93c5711c-15e8-4fdf-bf5a-9d01785a57de",
   "metadata": {
    "name": "cell23",
    "collapsed": false
   },
   "source": "## 3.3 PROTECTO ASYNC UNMASK RESULT - COMPARED"
  },
  {
   "cell_type": "code",
   "id": "e85644a4-a464-4ade-8afc-ce0e70ea009b",
   "metadata": {
    "language": "sql",
    "name": "cell26"
   },
   "outputs": [],
   "source": "WITH json_data AS (\n    SELECT \n        PARSE_JSON(flattened.VALUE::STRING) AS json_object\n    FROM \n        LATERAL FLATTEN(\n            INPUT => protecto.vault.protecto_async_unmask_result(\n                '72716721-5552-4ddc-8852-872c4f304d9d04082024142318',\n                'value'\n            )\n        ) AS flattened\n)\nSELECT\n    KEY AS MASKED_NAME,\n    VALUE::STRING AS ORIGINAL_VALUES\nFROM\n    json_data,\n    LATERAL FLATTEN(INPUT => json_data.json_object)",
   "execution_count": null
  }
 ]
}